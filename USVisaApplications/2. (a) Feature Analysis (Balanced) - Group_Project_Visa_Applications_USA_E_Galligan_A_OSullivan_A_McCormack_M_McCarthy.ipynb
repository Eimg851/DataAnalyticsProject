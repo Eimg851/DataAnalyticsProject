{
 "cells": [
  {
   "cell_type": "markdown",
   "metadata": {},
   "source": [
    "# Predicting US Working Visa Applications"
   ]
  },
  {
   "cell_type": "markdown",
   "metadata": {},
   "source": [
    "# 3. Feature Selection"
   ]
  },
  {
   "cell_type": "code",
   "execution_count": 1,
   "metadata": {},
   "outputs": [
    {
     "name": "stderr",
     "output_type": "stream",
     "text": [
      "/Users/Eimg/anaconda3/envs/comp47350/lib/python3.6/site-packages/sklearn/cross_validation.py:41: DeprecationWarning: This module was deprecated in version 0.18 in favor of the model_selection module into which all the refactored classes and functions are moved. Also note that the interface of the new CV iterators are different from that of this module. This module will be removed in 0.20.\n",
      "  \"This module will be removed in 0.20.\", DeprecationWarning)\n"
     ]
    }
   ],
   "source": [
    "#Import the required packages\n",
    "import pandas as pd\n",
    "import numpy as np\n",
    "import matplotlib.pyplot as plt\n",
    "import matplotlib.patches as mpatches\n",
    "from matplotlib.backends.backend_pdf import PdfPages\n",
    "import seaborn as sns\n",
    "import itertools\n",
    "from bs4 import BeautifulSoup\n",
    "import urllib.request\n",
    "import re\n",
    "from patsy import dmatrices\n",
    "from sklearn.cross_validation import train_test_split\n",
    "from sklearn import metrics\n",
    "from sklearn.cross_validation import cross_val_score\n",
    "from sklearn.tree import export_graphviz\n",
    "from sklearn.tree import DecisionTreeClassifier\n",
    "from sklearn.ensemble import RandomForestClassifier\n",
    "%matplotlib inline\n",
    "%config IPCompleter.greedy=True\n",
    "\n",
    "#Display all columns in tables which were being left out before\n",
    "#https://stackoverflow.com/questions/11707586/python-pandas-how-to-widen-output-display-to-see-more-columns\n",
    "pd.set_option('display.max_rows', 500)\n",
    "pd.set_option('display.max_columns', 154 )"
   ]
  },
  {
   "cell_type": "markdown",
   "metadata": {},
   "source": [
    "### 3.1 Randomly shuffle the rows of your dataset. \n"
   ]
  },
  {
   "cell_type": "code",
   "execution_count": 2,
   "metadata": {
    "scrolled": true
   },
   "outputs": [
    {
     "name": "stderr",
     "output_type": "stream",
     "text": [
      "/Users/Eimg/anaconda3/envs/comp47350/lib/python3.6/site-packages/IPython/core/interactiveshell.py:2785: DtypeWarning: Columns (0,1,2,3,4,5,6,8,13,14,17,18,21,22,23,24,25,26,27,28,29,30,31,32,34,35,37,38,39,41,44,45,46,47,48,49,54,56,57,58,59,60,61,62,63,64,65,66,67,68,69,70,71) have mixed types. Specify dtype option on import or set low_memory=False.\n",
      "  interactivity=interactivity, compiler=compiler, result=result)\n"
     ]
    }
   ],
   "source": [
    "# Shuffle the rows in the cleaned dataframe. \n",
    "df_visaType = pd.read_csv(\"US-Perm-Visa-CleanedData.csv\")\n",
    "df_visaType.sample(frac=1)\n",
    "df_shuffle= df_visaType.sample(frac=1)"
   ]
  },
  {
   "cell_type": "code",
   "execution_count": 3,
   "metadata": {},
   "outputs": [
    {
     "data": {
      "text/plain": [
       "agent_city                        object\n",
       "agent_firm_name                   object\n",
       "agent_state                       object\n",
       "application_type                  object\n",
       "case_no                           object\n",
       "case_number                       object\n",
       "case_received_date                object\n",
       "case_status                       object\n",
       "country_of_citizenship            object\n",
       "decision_date                     object\n",
       "employer_address_1                object\n",
       "employer_address_2                object\n",
       "employer_city                     object\n",
       "employer_country                  object\n",
       "employer_decl_info_title          object\n",
       "employer_name                     object\n",
       "employer_num_employees           float64\n",
       "employer_phone                    object\n",
       "employer_postal_code              object\n",
       "employer_state                    object\n",
       "employer_yr_estab                float64\n",
       "foreign_worker_info_city          object\n",
       "foreign_worker_info_education     object\n",
       "foreign_worker_info_inst          object\n",
       "foreign_worker_info_major         object\n",
       "foreign_worker_info_state         object\n",
       "fw_info_alt_edu_experience        object\n",
       "fw_info_birth_country             object\n",
       "fw_info_education_other           object\n",
       "fw_info_postal_code               object\n",
       "fw_info_rel_occup_exp             object\n",
       "fw_info_req_experience            object\n",
       "fw_info_training_comp             object\n",
       "fw_info_yr_rel_edu_completed     float64\n",
       "job_info_alt_occ                  object\n",
       "job_info_alt_occ_job_title        object\n",
       "job_info_alt_occ_num_months      float64\n",
       "job_info_education                object\n",
       "job_info_job_title                object\n",
       "job_info_major                    object\n",
       "job_info_work_city                object\n",
       "job_info_work_postal_code         object\n",
       "job_info_work_state               object\n",
       "naics_us_code                    float64\n",
       "naics_us_title                    object\n",
       "preparer_info_title               object\n",
       "pw_determ_date                    object\n",
       "pw_expire_date                    object\n",
       "pw_job_title_908                  object\n",
       "pw_job_title_9089                 object\n",
       "pw_level_9089                     object\n",
       "pw_soc_code                       object\n",
       "pw_soc_title                      object\n",
       "pw_source_name_9089               object\n",
       "pw_track_num                      object\n",
       "pw_unit_of_pay_9089               object\n",
       "recr_info_barg_rep_notified       object\n",
       "recr_info_first_ad_start          object\n",
       "recr_info_second_ad_start         object\n",
       "recr_info_swa_job_order_end       object\n",
       "recr_info_swa_job_order_start     object\n",
       "ri_1st_ad_newspaper_name          object\n",
       "ri_2nd_ad_newspaper_name          object\n",
       "ri_coll_teach_pro_jnl             object\n",
       "ri_employer_web_post_from         object\n",
       "ri_employer_web_post_to           object\n",
       "ri_job_search_website_from        object\n",
       "ri_job_search_website_to          object\n",
       "ri_posted_notice_at_worksite      object\n",
       "schd_a_sheepherder                object\n",
       "us_economic_sector                object\n",
       "wage_offer_unit_of_pay_9089       object\n",
       "dtype: object"
      ]
     },
     "execution_count": 3,
     "metadata": {},
     "output_type": "execute_result"
    }
   ],
   "source": [
    "df_shuffle.dtypes"
   ]
  },
  {
   "cell_type": "markdown",
   "metadata": {},
   "source": [
    "### Datatype Issue\n",
    "Above we can see that changed to datatypes made in the previous notebook have not been saved. There are only two continuous features, employer_num_employees and job_info_alt_occ_num_months. Therefore we will convert all other floats to object. "
   ]
  },
  {
   "cell_type": "code",
   "execution_count": 4,
   "metadata": {
    "scrolled": true
   },
   "outputs": [],
   "source": [
    "df_shuffle['employer_yr_estab'] = df_shuffle['employer_yr_estab'].astype('object')\n",
    "df_shuffle['fw_info_yr_rel_edu_completed'] = df_shuffle['fw_info_yr_rel_edu_completed'].astype('object')\n",
    "df_shuffle['naics_us_code'] = df_shuffle['naics_us_code'].astype('object')"
   ]
  },
  {
   "cell_type": "code",
   "execution_count": 5,
   "metadata": {},
   "outputs": [
    {
     "data": {
      "text/plain": [
       "(153625, 72)"
      ]
     },
     "execution_count": 5,
     "metadata": {},
     "output_type": "execute_result"
    }
   ],
   "source": [
    "df_shuffle.shape"
   ]
  },
  {
   "cell_type": "markdown",
   "metadata": {},
   "source": [
    "Examining the target feature, case_status to ensure suitability for studying."
   ]
  },
  {
   "cell_type": "code",
   "execution_count": 6,
   "metadata": {},
   "outputs": [
    {
     "data": {
      "text/plain": [
       "Certified    139312\n",
       "Denied        14313\n",
       "Name: case_status, dtype: int64"
      ]
     },
     "execution_count": 6,
     "metadata": {},
     "output_type": "execute_result"
    }
   ],
   "source": [
    "df_shuffle[\"case_status\"].value_counts()"
   ]
  },
  {
   "cell_type": "markdown",
   "metadata": {},
   "source": [
    "In the cleaned dataset, of a total 153625, 139312 or 91% were certified to obtain a H-1B visa, where only 9% of cases are denied. This is an imbalanced dataset, whereby different levels of the target feature, certified and denied, are not equally represented. In order to deal with this we created a new dataset with equal levels of the target feature. Many machine learning approaches perform better with a balanced sample. If we train a model with the data as is, it will be biased and predict the majority class (certified) in most cases. Two common ways of dealing with this are undersampling the majority class or oversampling the minority category. We decided to undersample the majority class, as oversampling the 'denied' category can lead to overfitting.  "
   ]
  },
  {
   "cell_type": "code",
   "execution_count": 7,
   "metadata": {},
   "outputs": [],
   "source": [
    "cert = df_shuffle.loc[df_visaType['case_status'] == 'Certified']"
   ]
  },
  {
   "cell_type": "code",
   "execution_count": 8,
   "metadata": {},
   "outputs": [
    {
     "data": {
      "text/plain": [
       "(139312, 72)"
      ]
     },
     "execution_count": 8,
     "metadata": {},
     "output_type": "execute_result"
    }
   ],
   "source": [
    "cert.shape"
   ]
  },
  {
   "cell_type": "code",
   "execution_count": 9,
   "metadata": {},
   "outputs": [],
   "source": [
    "df_certified = pd.DataFrame(data=cert)"
   ]
  },
  {
   "cell_type": "code",
   "execution_count": 10,
   "metadata": {},
   "outputs": [
    {
     "data": {
      "text/plain": [
       "(14313, 72)"
      ]
     },
     "execution_count": 10,
     "metadata": {},
     "output_type": "execute_result"
    }
   ],
   "source": [
    "certified = df_certified.sample(n=14313)\n",
    "certified.shape"
   ]
  },
  {
   "cell_type": "code",
   "execution_count": 11,
   "metadata": {},
   "outputs": [
    {
     "data": {
      "text/plain": [
       "(14313, 72)"
      ]
     },
     "execution_count": 11,
     "metadata": {},
     "output_type": "execute_result"
    }
   ],
   "source": [
    "denied = df_shuffle.loc[df_visaType['case_status'] == 'Denied']\n",
    "denied.shape"
   ]
  },
  {
   "cell_type": "markdown",
   "metadata": {},
   "source": [
    "Having created equal two dataframes, one with only certified cases and the other with the denied cases, we then merged the two dataframes."
   ]
  },
  {
   "cell_type": "code",
   "execution_count": 12,
   "metadata": {},
   "outputs": [],
   "source": [
    "frames = [denied, certified]\n",
    "new = pd.concat(frames)"
   ]
  },
  {
   "cell_type": "code",
   "execution_count": 13,
   "metadata": {},
   "outputs": [],
   "source": [
    "# Shuffle the rows in the new dataframe\n",
    "new.sample(frac=1)\n",
    "new_df= new.sample(frac=1)"
   ]
  },
  {
   "cell_type": "code",
   "execution_count": 14,
   "metadata": {},
   "outputs": [
    {
     "data": {
      "text/plain": [
       "(28626, 72)"
      ]
     },
     "execution_count": 14,
     "metadata": {},
     "output_type": "execute_result"
    }
   ],
   "source": [
    "new_df.shape"
   ]
  },
  {
   "cell_type": "markdown",
   "metadata": {},
   "source": [
    "We have 72 variables in the dataset, which we felt was quite a lot. We decided to investigate these variables further and drop more, in order to focus on variables of interest and those with more potential predictive power. "
   ]
  },
  {
   "cell_type": "code",
   "execution_count": 15,
   "metadata": {},
   "outputs": [
    {
     "data": {
      "text/plain": [
       "agent_city                       14895\n",
       "agent_firm_name                  15352\n",
       "agent_state                      15065\n",
       "application_type                 15444\n",
       "case_no                          15444\n",
       "case_number                      13182\n",
       "case_received_date               13182\n",
       "case_status                          0\n",
       "country_of_citizenship            2513\n",
       "decision_date                        0\n",
       "employer_address_1                   0\n",
       "employer_address_2               11992\n",
       "employer_city                        0\n",
       "employer_country                 13189\n",
       "employer_decl_info_title         13183\n",
       "employer_name                        0\n",
       "employer_num_employees           13189\n",
       "employer_phone                   13184\n",
       "employer_postal_code                 5\n",
       "employer_state                      10\n",
       "employer_yr_estab                13183\n",
       "foreign_worker_info_city         13183\n",
       "foreign_worker_info_education    13182\n",
       "foreign_worker_info_inst         13377\n",
       "foreign_worker_info_major        13381\n",
       "foreign_worker_info_state        13248\n",
       "fw_info_alt_edu_experience       19422\n",
       "fw_info_birth_country            19423\n",
       "fw_info_education_other          19454\n",
       "fw_info_postal_code              19461\n",
       "fw_info_rel_occup_exp            19423\n",
       "fw_info_req_experience           19422\n",
       "fw_info_training_comp            19423\n",
       "fw_info_yr_rel_edu_completed     19526\n",
       "job_info_alt_occ                 18486\n",
       "job_info_alt_occ_job_title       19273\n",
       "job_info_alt_occ_num_months      19295\n",
       "job_info_education               13182\n",
       "job_info_job_title               13184\n",
       "job_info_major                   13508\n",
       "job_info_work_city                   0\n",
       "job_info_work_postal_code        13185\n",
       "job_info_work_state                  3\n",
       "naics_us_code                    19434\n",
       "naics_us_title                   19434\n",
       "preparer_info_title              15038\n",
       "pw_determ_date                   13194\n",
       "pw_expire_date                   13198\n",
       "pw_job_title_908                 19422\n",
       "pw_job_title_9089                 9223\n",
       "pw_level_9089                     3004\n",
       "pw_soc_code                         27\n",
       "pw_soc_title                      1135\n",
       "pw_source_name_9089               1116\n",
       "pw_track_num                     13553\n",
       "pw_unit_of_pay_9089                 94\n",
       "recr_info_barg_rep_notified      19425\n",
       "recr_info_first_ad_start         13565\n",
       "recr_info_second_ad_start        13568\n",
       "recr_info_swa_job_order_end      13575\n",
       "recr_info_swa_job_order_start    13566\n",
       "ri_1st_ad_newspaper_name         13309\n",
       "ri_2nd_ad_newspaper_name         13318\n",
       "ri_coll_teach_pro_jnl            19312\n",
       "ri_employer_web_post_from        18418\n",
       "ri_employer_web_post_to          18427\n",
       "ri_job_search_website_from       14774\n",
       "ri_job_search_website_to         14780\n",
       "ri_posted_notice_at_worksite     13198\n",
       "schd_a_sheepherder               13182\n",
       "us_economic_sector               16876\n",
       "wage_offer_unit_of_pay_9089      10744\n",
       "dtype: int64"
      ]
     },
     "execution_count": 15,
     "metadata": {},
     "output_type": "execute_result"
    }
   ],
   "source": [
    "# Double checking whether there are null values in the data where values would be expected\n",
    "new_df.isnull().sum()"
   ]
  },
  {
   "cell_type": "markdown",
   "metadata": {},
   "source": [
    "As you can see there are still many variables with with a large amount of null values. We will drop any with over 60% null values. "
   ]
  },
  {
   "cell_type": "code",
   "execution_count": 16,
   "metadata": {},
   "outputs": [],
   "source": [
    "# Find columns that have less than have of the values filled in and remove them from the dataset.\n",
    "for col in new_df:\n",
    "    if new_df[col].count() < 17176:\n",
    "        new_df = new_df.drop([col], axis = 1)"
   ]
  },
  {
   "cell_type": "code",
   "execution_count": 17,
   "metadata": {},
   "outputs": [
    {
     "data": {
      "text/plain": [
       "(28626, 17)"
      ]
     },
     "execution_count": 17,
     "metadata": {},
     "output_type": "execute_result"
    }
   ],
   "source": [
    "new_df.shape"
   ]
  },
  {
   "cell_type": "markdown",
   "metadata": {},
   "source": [
    "We investigate the remaining variables' cardinality to narrow down our variables of interest."
   ]
  },
  {
   "cell_type": "code",
   "execution_count": 18,
   "metadata": {},
   "outputs": [
    {
     "data": {
      "text/html": [
       "<div>\n",
       "<style scoped>\n",
       "    .dataframe tbody tr th:only-of-type {\n",
       "        vertical-align: middle;\n",
       "    }\n",
       "\n",
       "    .dataframe tbody tr th {\n",
       "        vertical-align: top;\n",
       "    }\n",
       "\n",
       "    .dataframe thead th {\n",
       "        text-align: right;\n",
       "    }\n",
       "</style>\n",
       "<table border=\"1\" class=\"dataframe\">\n",
       "  <thead>\n",
       "    <tr style=\"text-align: right;\">\n",
       "      <th></th>\n",
       "      <th>count</th>\n",
       "      <th>unique</th>\n",
       "      <th>top</th>\n",
       "      <th>freq</th>\n",
       "    </tr>\n",
       "  </thead>\n",
       "  <tbody>\n",
       "    <tr>\n",
       "      <th>case_status</th>\n",
       "      <td>28626</td>\n",
       "      <td>2</td>\n",
       "      <td>Denied</td>\n",
       "      <td>14313</td>\n",
       "    </tr>\n",
       "    <tr>\n",
       "      <th>country_of_citizenship</th>\n",
       "      <td>26113</td>\n",
       "      <td>154</td>\n",
       "      <td>INDIA</td>\n",
       "      <td>16208</td>\n",
       "    </tr>\n",
       "    <tr>\n",
       "      <th>decision_date</th>\n",
       "      <td>28626</td>\n",
       "      <td>1176</td>\n",
       "      <td>2016-06-20</td>\n",
       "      <td>119</td>\n",
       "    </tr>\n",
       "    <tr>\n",
       "      <th>employer_address_1</th>\n",
       "      <td>28626</td>\n",
       "      <td>11241</td>\n",
       "      <td>2200 MISSION COLLEGE BLVD.</td>\n",
       "      <td>699</td>\n",
       "    </tr>\n",
       "    <tr>\n",
       "      <th>employer_city</th>\n",
       "      <td>28626</td>\n",
       "      <td>2671</td>\n",
       "      <td>NEW YORK</td>\n",
       "      <td>1275</td>\n",
       "    </tr>\n",
       "    <tr>\n",
       "      <th>employer_name</th>\n",
       "      <td>28626</td>\n",
       "      <td>11324</td>\n",
       "      <td>COGNIZANT TECHNOLOGY SOLUTIONS US CORPORATION</td>\n",
       "      <td>698</td>\n",
       "    </tr>\n",
       "    <tr>\n",
       "      <th>employer_postal_code</th>\n",
       "      <td>28621</td>\n",
       "      <td>5509</td>\n",
       "      <td>95052</td>\n",
       "      <td>693</td>\n",
       "    </tr>\n",
       "    <tr>\n",
       "      <th>employer_state</th>\n",
       "      <td>28616</td>\n",
       "      <td>55</td>\n",
       "      <td>CALIFORNIA</td>\n",
       "      <td>6616</td>\n",
       "    </tr>\n",
       "    <tr>\n",
       "      <th>job_info_work_city</th>\n",
       "      <td>28626</td>\n",
       "      <td>3146</td>\n",
       "      <td>New York</td>\n",
       "      <td>1183</td>\n",
       "    </tr>\n",
       "    <tr>\n",
       "      <th>job_info_work_state</th>\n",
       "      <td>28623</td>\n",
       "      <td>55</td>\n",
       "      <td>CALIFORNIA</td>\n",
       "      <td>6500</td>\n",
       "    </tr>\n",
       "    <tr>\n",
       "      <th>pw_job_title_9089</th>\n",
       "      <td>19403</td>\n",
       "      <td>1592</td>\n",
       "      <td>Software Developers, Applications</td>\n",
       "      <td>4725</td>\n",
       "    </tr>\n",
       "    <tr>\n",
       "      <th>pw_level_9089</th>\n",
       "      <td>25622</td>\n",
       "      <td>4</td>\n",
       "      <td>Level II</td>\n",
       "      <td>9816</td>\n",
       "    </tr>\n",
       "    <tr>\n",
       "      <th>pw_soc_code</th>\n",
       "      <td>28599</td>\n",
       "      <td>630</td>\n",
       "      <td>15-1132</td>\n",
       "      <td>8390</td>\n",
       "    </tr>\n",
       "    <tr>\n",
       "      <th>pw_soc_title</th>\n",
       "      <td>27491</td>\n",
       "      <td>420</td>\n",
       "      <td>Software Developers, Applications</td>\n",
       "      <td>8378</td>\n",
       "    </tr>\n",
       "    <tr>\n",
       "      <th>pw_source_name_9089</th>\n",
       "      <td>27510</td>\n",
       "      <td>6</td>\n",
       "      <td>OES</td>\n",
       "      <td>25127</td>\n",
       "    </tr>\n",
       "    <tr>\n",
       "      <th>pw_unit_of_pay_9089</th>\n",
       "      <td>28532</td>\n",
       "      <td>5</td>\n",
       "      <td>Year</td>\n",
       "      <td>28042</td>\n",
       "    </tr>\n",
       "    <tr>\n",
       "      <th>wage_offer_unit_of_pay_9089</th>\n",
       "      <td>17882</td>\n",
       "      <td>5</td>\n",
       "      <td>Year</td>\n",
       "      <td>17628</td>\n",
       "    </tr>\n",
       "  </tbody>\n",
       "</table>\n",
       "</div>"
      ],
      "text/plain": [
       "                             count unique  \\\n",
       "case_status                  28626      2   \n",
       "country_of_citizenship       26113    154   \n",
       "decision_date                28626   1176   \n",
       "employer_address_1           28626  11241   \n",
       "employer_city                28626   2671   \n",
       "employer_name                28626  11324   \n",
       "employer_postal_code         28621   5509   \n",
       "employer_state               28616     55   \n",
       "job_info_work_city           28626   3146   \n",
       "job_info_work_state          28623     55   \n",
       "pw_job_title_9089            19403   1592   \n",
       "pw_level_9089                25622      4   \n",
       "pw_soc_code                  28599    630   \n",
       "pw_soc_title                 27491    420   \n",
       "pw_source_name_9089          27510      6   \n",
       "pw_unit_of_pay_9089          28532      5   \n",
       "wage_offer_unit_of_pay_9089  17882      5   \n",
       "\n",
       "                                                                       top  \\\n",
       "case_status                                                         Denied   \n",
       "country_of_citizenship                                               INDIA   \n",
       "decision_date                                                   2016-06-20   \n",
       "employer_address_1                              2200 MISSION COLLEGE BLVD.   \n",
       "employer_city                                                     NEW YORK   \n",
       "employer_name                COGNIZANT TECHNOLOGY SOLUTIONS US CORPORATION   \n",
       "employer_postal_code                                                 95052   \n",
       "employer_state                                                  CALIFORNIA   \n",
       "job_info_work_city                                                New York   \n",
       "job_info_work_state                                             CALIFORNIA   \n",
       "pw_job_title_9089                        Software Developers, Applications   \n",
       "pw_level_9089                                                     Level II   \n",
       "pw_soc_code                                                        15-1132   \n",
       "pw_soc_title                             Software Developers, Applications   \n",
       "pw_source_name_9089                                                    OES   \n",
       "pw_unit_of_pay_9089                                                   Year   \n",
       "wage_offer_unit_of_pay_9089                                           Year   \n",
       "\n",
       "                              freq  \n",
       "case_status                  14313  \n",
       "country_of_citizenship       16208  \n",
       "decision_date                  119  \n",
       "employer_address_1             699  \n",
       "employer_city                 1275  \n",
       "employer_name                  698  \n",
       "employer_postal_code           693  \n",
       "employer_state                6616  \n",
       "job_info_work_city            1183  \n",
       "job_info_work_state           6500  \n",
       "pw_job_title_9089             4725  \n",
       "pw_level_9089                 9816  \n",
       "pw_soc_code                   8390  \n",
       "pw_soc_title                  8378  \n",
       "pw_source_name_9089          25127  \n",
       "pw_unit_of_pay_9089          28042  \n",
       "wage_offer_unit_of_pay_9089  17628  "
      ]
     },
     "execution_count": 18,
     "metadata": {},
     "output_type": "execute_result"
    }
   ],
   "source": [
    "new_df.describe().T"
   ]
  },
  {
   "cell_type": "code",
   "execution_count": 19,
   "metadata": {},
   "outputs": [
    {
     "data": {
      "text/plain": [
       "case_status                    object\n",
       "country_of_citizenship         object\n",
       "decision_date                  object\n",
       "employer_address_1             object\n",
       "employer_city                  object\n",
       "employer_name                  object\n",
       "employer_postal_code           object\n",
       "employer_state                 object\n",
       "job_info_work_city             object\n",
       "job_info_work_state            object\n",
       "pw_job_title_9089              object\n",
       "pw_level_9089                  object\n",
       "pw_soc_code                    object\n",
       "pw_soc_title                   object\n",
       "pw_source_name_9089            object\n",
       "pw_unit_of_pay_9089            object\n",
       "wage_offer_unit_of_pay_9089    object\n",
       "dtype: object"
      ]
     },
     "execution_count": 19,
     "metadata": {},
     "output_type": "execute_result"
    }
   ],
   "source": [
    "new_df.dtypes"
   ]
  },
  {
   "cell_type": "code",
   "execution_count": 20,
   "metadata": {},
   "outputs": [
    {
     "data": {
      "text/plain": [
       "<bound method Series.unique of CALIFORNIA                  6616\n",
       "TEXAS                       3693\n",
       "NEW JERSEY                  2706\n",
       "NEW YORK                    2067\n",
       "ILLINOIS                    1500\n",
       "MICHIGAN                    1054\n",
       "VIRGINIA                     984\n",
       "FLORIDA                      933\n",
       "MASSACHUSETTS                907\n",
       "PENNSYLVANIA                 875\n",
       "GEORGIA                      814\n",
       "WASHINGTON                   775\n",
       "MARYLAND                     637\n",
       "NORTH CAROLINA               563\n",
       "OHIO                         444\n",
       "CONNECTICUT                  322\n",
       "ARIZONA                      291\n",
       "MISSOURI                     257\n",
       "COLORADO                     236\n",
       "WISCONSIN                    230\n",
       "INDIANA                      222\n",
       "MINNESOTA                    217\n",
       "TENNESSEE                    167\n",
       "KANSAS                       153\n",
       "DISTRICT OF COLUMBIA         142\n",
       "LOUISIANA                    134\n",
       "KENTUCKY                     128\n",
       "IOWA                         110\n",
       "ARKANSAS                     109\n",
       "NEBRASKA                     104\n",
       "NEW MEXICO                   102\n",
       "SOUTH CAROLINA               101\n",
       "UTAH                         100\n",
       "DELAWARE                      98\n",
       "OKLAHOMA                      85\n",
       "OREGON                        84\n",
       "ALABAMA                       83\n",
       "RHODE ISLAND                  73\n",
       "NEVADA                        60\n",
       "VERMONT                       59\n",
       "IDAHO                         53\n",
       "NEW HAMPSHIRE                 45\n",
       "MISSISSIPPI                   32\n",
       "NORTH DAKOTA                  30\n",
       "VIRGIN ISLANDS                30\n",
       "PUERTO RICO                   29\n",
       "GUAM                          28\n",
       "MAINE                         26\n",
       "SOUTH DAKOTA                  22\n",
       "HAWAII                        20\n",
       "WEST VIRGINIA                 19\n",
       "NORTHERN MARIANA ISLANDS      17\n",
       "MONTANA                       12\n",
       "ALASKA                         9\n",
       "WYOMING                        9\n",
       "Name: employer_state, dtype: int64>"
      ]
     },
     "execution_count": 20,
     "metadata": {},
     "output_type": "execute_result"
    }
   ],
   "source": [
    "# We noted that employer state has 59 values, but there are 50 states in the US, so investigated this further\n",
    "new_df.employer_state.value_counts().unique"
   ]
  },
  {
   "cell_type": "markdown",
   "metadata": {},
   "source": [
    "It appears that territories have been included as states, so we will rename these as one category. We also investigated the unique values for other columns to ensure no typing errors or duplicates."
   ]
  },
  {
   "cell_type": "code",
   "execution_count": 21,
   "metadata": {},
   "outputs": [
    {
     "data": {
      "text/plain": [
       "<bound method Series.unique of Level II     9816\n",
       "Level IV     6716\n",
       "Level III    4610\n",
       "Level I      4480\n",
       "Name: pw_level_9089, dtype: int64>"
      ]
     },
     "execution_count": 21,
     "metadata": {},
     "output_type": "execute_result"
    }
   ],
   "source": [
    "new_df.pw_level_9089.value_counts().unique"
   ]
  },
  {
   "cell_type": "code",
   "execution_count": 22,
   "metadata": {},
   "outputs": [
    {
     "data": {
      "text/plain": [
       "<bound method Series.unique of OES                   25127\n",
       "Other                  1835\n",
       "CBA                     504\n",
       "Employer Conducted       34\n",
       "SCA                       9\n",
       "DBA                       1\n",
       "Name: pw_source_name_9089, dtype: int64>"
      ]
     },
     "execution_count": 22,
     "metadata": {},
     "output_type": "execute_result"
    }
   ],
   "source": [
    "new_df.pw_source_name_9089.value_counts().unique"
   ]
  },
  {
   "cell_type": "code",
   "execution_count": 23,
   "metadata": {},
   "outputs": [
    {
     "data": {
      "text/plain": [
       "<bound method Series.unique of Year         28042\n",
       "Hour           461\n",
       "Week            15\n",
       "Month           10\n",
       "Bi-Weekly        4\n",
       "Name: pw_unit_of_pay_9089, dtype: int64>"
      ]
     },
     "execution_count": 23,
     "metadata": {},
     "output_type": "execute_result"
    }
   ],
   "source": [
    "new_df.pw_unit_of_pay_9089.value_counts().unique"
   ]
  },
  {
   "cell_type": "code",
   "execution_count": 24,
   "metadata": {},
   "outputs": [
    {
     "data": {
      "text/plain": [
       "<bound method Series.unique of Year         17628\n",
       "Hour           228\n",
       "Month           12\n",
       "Week             9\n",
       "Bi-Weekly        5\n",
       "Name: wage_offer_unit_of_pay_9089, dtype: int64>"
      ]
     },
     "execution_count": 24,
     "metadata": {},
     "output_type": "execute_result"
    }
   ],
   "source": [
    "new_df.wage_offer_unit_of_pay_9089.value_counts().unique"
   ]
  },
  {
   "cell_type": "code",
   "execution_count": 25,
   "metadata": {},
   "outputs": [],
   "source": [
    "new_df_clean = new_df"
   ]
  },
  {
   "cell_type": "code",
   "execution_count": 26,
   "metadata": {},
   "outputs": [],
   "source": [
    "# Grouping territories together\n",
    "new_df_clean.employer_state=new_df.employer_state.replace('VIRGIN ISLANDS', 'TERRITORIES')\n",
    "new_df_clean.employer_state=new_df.employer_state.replace('PUERTO RICO', 'TERRITORIES')\n",
    "new_df_clean.employer_state=new_df.employer_state.replace('GUAM', 'TERRITORIES')\n",
    "new_df_clean.employer_state=new_df.employer_state.replace('NORTH MARIANA ISLANDS', 'TERRITORIES')\n",
    "new_df_clean.employer_state=new_df.employer_state.replace('NORTHERN MARIANA ISLANDS', 'TERRITORIES')\n",
    "new_df_clean.employer_state=new_df.employer_state.replace('BRITISH COLUMBIA', 'TERRITORIES')\n",
    "new_df_clean.employer_state=new_df.employer_state.replace('GU', 'TERRITORIES')\n",
    "new_df_clean.employer_state=new_df.employer_state.replace('PR', 'TERRITORIES')\n",
    "new_df_clean.employer_state=new_df.employer_state.replace('MP', 'TERRITORIES')\n",
    "new_df_clean.employer_state=new_df.employer_state.replace('VI', 'TERRITORIES')"
   ]
  },
  {
   "cell_type": "code",
   "execution_count": 27,
   "metadata": {},
   "outputs": [
    {
     "data": {
      "text/html": [
       "<div>\n",
       "<style scoped>\n",
       "    .dataframe tbody tr th:only-of-type {\n",
       "        vertical-align: middle;\n",
       "    }\n",
       "\n",
       "    .dataframe tbody tr th {\n",
       "        vertical-align: top;\n",
       "    }\n",
       "\n",
       "    .dataframe thead th {\n",
       "        text-align: right;\n",
       "    }\n",
       "</style>\n",
       "<table border=\"1\" class=\"dataframe\">\n",
       "  <thead>\n",
       "    <tr style=\"text-align: right;\">\n",
       "      <th></th>\n",
       "      <th>count</th>\n",
       "      <th>unique</th>\n",
       "      <th>top</th>\n",
       "      <th>freq</th>\n",
       "    </tr>\n",
       "  </thead>\n",
       "  <tbody>\n",
       "    <tr>\n",
       "      <th>case_status</th>\n",
       "      <td>28626</td>\n",
       "      <td>2</td>\n",
       "      <td>Denied</td>\n",
       "      <td>14313</td>\n",
       "    </tr>\n",
       "    <tr>\n",
       "      <th>country_of_citizenship</th>\n",
       "      <td>26113</td>\n",
       "      <td>154</td>\n",
       "      <td>INDIA</td>\n",
       "      <td>16208</td>\n",
       "    </tr>\n",
       "    <tr>\n",
       "      <th>decision_date</th>\n",
       "      <td>28626</td>\n",
       "      <td>1176</td>\n",
       "      <td>2016-06-20</td>\n",
       "      <td>119</td>\n",
       "    </tr>\n",
       "    <tr>\n",
       "      <th>employer_address_1</th>\n",
       "      <td>28626</td>\n",
       "      <td>11241</td>\n",
       "      <td>2200 MISSION COLLEGE BLVD.</td>\n",
       "      <td>699</td>\n",
       "    </tr>\n",
       "    <tr>\n",
       "      <th>employer_city</th>\n",
       "      <td>28626</td>\n",
       "      <td>2671</td>\n",
       "      <td>NEW YORK</td>\n",
       "      <td>1275</td>\n",
       "    </tr>\n",
       "    <tr>\n",
       "      <th>employer_name</th>\n",
       "      <td>28626</td>\n",
       "      <td>11324</td>\n",
       "      <td>COGNIZANT TECHNOLOGY SOLUTIONS US CORPORATION</td>\n",
       "      <td>698</td>\n",
       "    </tr>\n",
       "    <tr>\n",
       "      <th>employer_postal_code</th>\n",
       "      <td>28621</td>\n",
       "      <td>5509</td>\n",
       "      <td>95052</td>\n",
       "      <td>693</td>\n",
       "    </tr>\n",
       "    <tr>\n",
       "      <th>employer_state</th>\n",
       "      <td>28616</td>\n",
       "      <td>52</td>\n",
       "      <td>CALIFORNIA</td>\n",
       "      <td>6616</td>\n",
       "    </tr>\n",
       "    <tr>\n",
       "      <th>job_info_work_city</th>\n",
       "      <td>28626</td>\n",
       "      <td>3146</td>\n",
       "      <td>New York</td>\n",
       "      <td>1183</td>\n",
       "    </tr>\n",
       "    <tr>\n",
       "      <th>job_info_work_state</th>\n",
       "      <td>28623</td>\n",
       "      <td>55</td>\n",
       "      <td>CALIFORNIA</td>\n",
       "      <td>6500</td>\n",
       "    </tr>\n",
       "    <tr>\n",
       "      <th>pw_job_title_9089</th>\n",
       "      <td>19403</td>\n",
       "      <td>1592</td>\n",
       "      <td>Software Developers, Applications</td>\n",
       "      <td>4725</td>\n",
       "    </tr>\n",
       "    <tr>\n",
       "      <th>pw_level_9089</th>\n",
       "      <td>25622</td>\n",
       "      <td>4</td>\n",
       "      <td>Level II</td>\n",
       "      <td>9816</td>\n",
       "    </tr>\n",
       "    <tr>\n",
       "      <th>pw_soc_code</th>\n",
       "      <td>28599</td>\n",
       "      <td>630</td>\n",
       "      <td>15-1132</td>\n",
       "      <td>8390</td>\n",
       "    </tr>\n",
       "    <tr>\n",
       "      <th>pw_soc_title</th>\n",
       "      <td>27491</td>\n",
       "      <td>420</td>\n",
       "      <td>Software Developers, Applications</td>\n",
       "      <td>8378</td>\n",
       "    </tr>\n",
       "    <tr>\n",
       "      <th>pw_source_name_9089</th>\n",
       "      <td>27510</td>\n",
       "      <td>6</td>\n",
       "      <td>OES</td>\n",
       "      <td>25127</td>\n",
       "    </tr>\n",
       "    <tr>\n",
       "      <th>pw_unit_of_pay_9089</th>\n",
       "      <td>28532</td>\n",
       "      <td>5</td>\n",
       "      <td>Year</td>\n",
       "      <td>28042</td>\n",
       "    </tr>\n",
       "    <tr>\n",
       "      <th>wage_offer_unit_of_pay_9089</th>\n",
       "      <td>17882</td>\n",
       "      <td>5</td>\n",
       "      <td>Year</td>\n",
       "      <td>17628</td>\n",
       "    </tr>\n",
       "  </tbody>\n",
       "</table>\n",
       "</div>"
      ],
      "text/plain": [
       "                             count unique  \\\n",
       "case_status                  28626      2   \n",
       "country_of_citizenship       26113    154   \n",
       "decision_date                28626   1176   \n",
       "employer_address_1           28626  11241   \n",
       "employer_city                28626   2671   \n",
       "employer_name                28626  11324   \n",
       "employer_postal_code         28621   5509   \n",
       "employer_state               28616     52   \n",
       "job_info_work_city           28626   3146   \n",
       "job_info_work_state          28623     55   \n",
       "pw_job_title_9089            19403   1592   \n",
       "pw_level_9089                25622      4   \n",
       "pw_soc_code                  28599    630   \n",
       "pw_soc_title                 27491    420   \n",
       "pw_source_name_9089          27510      6   \n",
       "pw_unit_of_pay_9089          28532      5   \n",
       "wage_offer_unit_of_pay_9089  17882      5   \n",
       "\n",
       "                                                                       top  \\\n",
       "case_status                                                         Denied   \n",
       "country_of_citizenship                                               INDIA   \n",
       "decision_date                                                   2016-06-20   \n",
       "employer_address_1                              2200 MISSION COLLEGE BLVD.   \n",
       "employer_city                                                     NEW YORK   \n",
       "employer_name                COGNIZANT TECHNOLOGY SOLUTIONS US CORPORATION   \n",
       "employer_postal_code                                                 95052   \n",
       "employer_state                                                  CALIFORNIA   \n",
       "job_info_work_city                                                New York   \n",
       "job_info_work_state                                             CALIFORNIA   \n",
       "pw_job_title_9089                        Software Developers, Applications   \n",
       "pw_level_9089                                                     Level II   \n",
       "pw_soc_code                                                        15-1132   \n",
       "pw_soc_title                             Software Developers, Applications   \n",
       "pw_source_name_9089                                                    OES   \n",
       "pw_unit_of_pay_9089                                                   Year   \n",
       "wage_offer_unit_of_pay_9089                                           Year   \n",
       "\n",
       "                              freq  \n",
       "case_status                  14313  \n",
       "country_of_citizenship       16208  \n",
       "decision_date                  119  \n",
       "employer_address_1             699  \n",
       "employer_city                 1275  \n",
       "employer_name                  698  \n",
       "employer_postal_code           693  \n",
       "employer_state                6616  \n",
       "job_info_work_city            1183  \n",
       "job_info_work_state           6500  \n",
       "pw_job_title_9089             4725  \n",
       "pw_level_9089                 9816  \n",
       "pw_soc_code                   8390  \n",
       "pw_soc_title                  8378  \n",
       "pw_source_name_9089          25127  \n",
       "pw_unit_of_pay_9089          28042  \n",
       "wage_offer_unit_of_pay_9089  17628  "
      ]
     },
     "execution_count": 27,
     "metadata": {},
     "output_type": "execute_result"
    }
   ],
   "source": [
    "new_df_clean.describe().T"
   ]
  },
  {
   "cell_type": "markdown",
   "metadata": {},
   "source": [
    "We will also drop further duplicate columns that we have examined and determined have the same information, namely employer_state and job_info_work_state, employer_city and job_info_work_city."
   ]
  },
  {
   "cell_type": "code",
   "execution_count": 28,
   "metadata": {},
   "outputs": [],
   "source": [
    "new_df_clean =new_df_clean.drop('job_info_work_state', axis = 1)\n",
    "new_df_clean =new_df_clean.drop('job_info_work_city', axis = 1)"
   ]
  },
  {
   "cell_type": "markdown",
   "metadata": {},
   "source": [
    "We also created a new column called case_status_code and coded the outcome of the visa application denied as 0 and certified as 1."
   ]
  },
  {
   "cell_type": "code",
   "execution_count": 29,
   "metadata": {},
   "outputs": [
    {
     "name": "stderr",
     "output_type": "stream",
     "text": [
      "/Users/Eimg/anaconda3/envs/comp47350/lib/python3.6/site-packages/ipykernel_launcher.py:2: FutureWarning: specifying 'categories' or 'ordered' in .astype() is deprecated; pass a CategoricalDtype instead\n",
      "  \n"
     ]
    }
   ],
   "source": [
    "case_status_types = ['Denied', 'Certified']\n",
    "new_df_clean['case_status_code'] = new_df_clean.case_status.astype(\"category\", categories=case_status_types).cat.codes"
   ]
  },
  {
   "cell_type": "code",
   "execution_count": 30,
   "metadata": {
    "scrolled": true
   },
   "outputs": [
    {
     "data": {
      "text/plain": [
       "case_status                    object\n",
       "country_of_citizenship         object\n",
       "decision_date                  object\n",
       "employer_address_1             object\n",
       "employer_city                  object\n",
       "employer_name                  object\n",
       "employer_postal_code           object\n",
       "employer_state                 object\n",
       "pw_job_title_9089              object\n",
       "pw_level_9089                  object\n",
       "pw_soc_code                    object\n",
       "pw_soc_title                   object\n",
       "pw_source_name_9089            object\n",
       "pw_unit_of_pay_9089            object\n",
       "wage_offer_unit_of_pay_9089    object\n",
       "case_status_code                 int8\n",
       "dtype: object"
      ]
     },
     "execution_count": 30,
     "metadata": {},
     "output_type": "execute_result"
    }
   ],
   "source": [
    "# Need to double check datatypes for the variables\n",
    "new_df_clean.dtypes"
   ]
  },
  {
   "cell_type": "code",
   "execution_count": 31,
   "metadata": {},
   "outputs": [],
   "source": [
    "new_df_clean.to_csv(\"US-Perm-Visa-PlottedFeaturesBalanced.csv\", encoding='utf-8', index=False)"
   ]
  },
  {
   "cell_type": "markdown",
   "metadata": {},
   "source": [
    "Now we are left with categorical variables of varying cardinality. For those with lower cardinalities, we will use stacked bar chats to plot interactions between each categorical feature and the target feature, case status. For those with very high cardinalities, we will discuss below how we dealt with them."
   ]
  },
  {
   "cell_type": "markdown",
   "metadata": {},
   "source": [
    "### 3.2 For each categorical feature, plot the pairwise interaction with the target feature. Discuss what knowledge you gain from these plots, e.g., which categorical features seem to be better at predicting the target feature? Choose a subset of categorical features you find promising. Justify your choices.\n",
    "    "
   ]
  },
  {
   "cell_type": "code",
   "execution_count": 32,
   "metadata": {},
   "outputs": [
    {
     "name": "stderr",
     "output_type": "stream",
     "text": [
      "/Users/Eimg/anaconda3/envs/comp47350/lib/python3.6/site-packages/ipykernel_launcher.py:7: RuntimeWarning: divide by zero encountered in long_scalars\n",
      "  import sys\n"
     ]
    },
    {
     "data": {
      "text/plain": [
       "(0, 100)"
      ]
     },
     "execution_count": 32,
     "metadata": {},
     "output_type": "execute_result"
    },
    {
     "data": {
      "image/png": "[encoded data removed]",
      "text/plain": [
       "<matplotlib.figure.Figure at 0x11509ca90>"
      ]
     },
     "metadata": {},
     "output_type": "display_data"
    }
   ],
   "source": [
    "# country of citizenship\n",
    "country_of_citizenship = pd.unique(new_df_clean.country_of_citizenship.ravel())\n",
    "\n",
    "new_df_clean['percent'] = 0\n",
    "\n",
    "for i in country_of_citizenship:\n",
    "    count = 1 / new_df_clean[new_df_clean.country_of_citizenship == i].count()['case_status_code']\n",
    "    index_list = new_df_clean[new_df_clean['country_of_citizenship'] == i].index.tolist()\n",
    "    for j in index_list:\n",
    "        new_df_clean.loc[j, 'percent'] = count * 100\n",
    "        \n",
    "group = new_df_clean[['percent','country_of_citizenship','case_status_code']].groupby(['country_of_citizenship','case_status_code']).sum()\n",
    "\n",
    "# Plot values of group in a stacked bar chart\n",
    "my_plot = group.unstack().plot(kind='bar', stacked=True, title=\"country_of_citizenship and case_status_code\", figsize=(15,7))\n",
    "\n",
    "# Define label colours and text and add to the plot\n",
    "red_patch = mpatches.Patch(color='orange', label='True')\n",
    "blue_patch = mpatches.Patch(color='blue', label='False')\n",
    "my_plot.legend(handles=[red_patch, blue_patch], frameon = True)\n",
    "\n",
    "# Define x and y labels and min and max values for the y axis\n",
    "my_plot.set_xlabel(\"country_of_citizenship\")\n",
    "my_plot.set_ylabel(\"% case status_code\")\n",
    "my_plot.set_ylim([0,100])"
   ]
  },
  {
   "cell_type": "markdown",
   "metadata": {},
   "source": [
    "As we can see above, it is very difficult to glean useful information from a stacked bar chart when the cardinality is so high. Thus, we will only plot stacked bar charts for the remaining variables with lower cardinalities. "
   ]
  },
  {
   "cell_type": "code",
   "execution_count": 33,
   "metadata": {},
   "outputs": [
    {
     "name": "stderr",
     "output_type": "stream",
     "text": [
      "/Users/Eimg/anaconda3/envs/comp47350/lib/python3.6/site-packages/ipykernel_launcher.py:7: RuntimeWarning: divide by zero encountered in long_scalars\n",
      "  import sys\n"
     ]
    },
    {
     "data": {
      "text/plain": [
       "(0, 100)"
      ]
     },
     "execution_count": 33,
     "metadata": {},
     "output_type": "execute_result"
    },
    {
     "data": {
      "image/png": "[encoded data removed]",
      "text/plain": [
       "<matplotlib.figure.Figure at 0x119cfaa20>"
      ]
     },
     "metadata": {},
     "output_type": "display_data"
    }
   ],
   "source": [
    "# employer_state                                                 \n",
    "employer_state = pd.unique(new_df_clean.employer_state.ravel())\n",
    "\n",
    "new_df_clean['percent'] = 0\n",
    "\n",
    "for i in employer_state:\n",
    "    count = 1 / new_df_clean[new_df_clean.employer_state== i].count()['case_status_code']\n",
    "    index_list = new_df_clean[new_df_clean['employer_state'] == i].index.tolist()\n",
    "    for j in index_list:\n",
    "        new_df_clean.loc[j, 'percent'] = count * 100\n",
    "        \n",
    "group = new_df_clean[['percent','employer_state','case_status_code']].groupby(['employer_state','case_status_code']).sum()\n",
    "\n",
    "# Plot values of group in a stacked bar chart\n",
    "my_plot = group.unstack().plot(kind='bar', stacked=True, title=\"employer_state and case_status_code\", figsize=(15,7))\n",
    "\n",
    "# Define label colours and text and add to the plot\n",
    "red_patch = mpatches.Patch(color='orange', label='True')\n",
    "blue_patch = mpatches.Patch(color='blue', label='False')\n",
    "my_plot.legend(handles=[red_patch, blue_patch], frameon = True)\n",
    "\n",
    "# Define x and y labels and min and max values for the y axis\n",
    "my_plot.set_xlabel(\"employer_state\")\n",
    "my_plot.set_ylabel(\"% case status_code\")\n",
    "my_plot.set_ylim([0,100])\n"
   ]
  },
  {
   "cell_type": "code",
   "execution_count": 34,
   "metadata": {},
   "outputs": [
    {
     "name": "stderr",
     "output_type": "stream",
     "text": [
      "/Users/Eimg/anaconda3/envs/comp47350/lib/python3.6/site-packages/ipykernel_launcher.py:7: RuntimeWarning: divide by zero encountered in long_scalars\n",
      "  import sys\n"
     ]
    },
    {
     "data": {
      "text/plain": [
       "(0, 100)"
      ]
     },
     "execution_count": 34,
     "metadata": {},
     "output_type": "execute_result"
    },
    {
     "data": {
      "image/png": "[encoded data removed]",
      "text/plain": [
       "<matplotlib.figure.Figure at 0x11b6e5828>"
      ]
     },
     "metadata": {},
     "output_type": "display_data"
    }
   ],
   "source": [
    "# pw_level_9089                                                 \n",
    "pw_level_9089 = pd.unique(new_df_clean.pw_level_9089.ravel())\n",
    "\n",
    "new_df_clean['percent'] = 0\n",
    "\n",
    "for i in pw_level_9089:\n",
    "    count = 1 / new_df_clean[new_df_clean.pw_level_9089== i].count()['case_status_code']\n",
    "    index_list = new_df_clean[new_df_clean['pw_level_9089'] == i].index.tolist()\n",
    "    for j in index_list:\n",
    "        new_df_clean.loc[j, 'percent'] = count * 100\n",
    "        \n",
    "group = new_df_clean[['percent','pw_level_9089','case_status_code']].groupby(['pw_level_9089','case_status_code']).sum()\n",
    "\n",
    "# Plot values of group in a stacked bar chart\n",
    "my_plot = group.unstack().plot(kind='bar', stacked=True, title=\"pw_level_9089 and case_status_code\", figsize=(15,7))\n",
    "\n",
    "# Define label colours and text and add to the plot\n",
    "red_patch = mpatches.Patch(color='orange', label='True')\n",
    "blue_patch = mpatches.Patch(color='blue', label='False')\n",
    "my_plot.legend(handles=[red_patch, blue_patch], frameon = True)\n",
    "\n",
    "# Define x and y labels and min and max values for the y axis\n",
    "my_plot.set_xlabel(\"pw_level_9089\")\n",
    "my_plot.set_ylabel(\"% case status_code\")\n",
    "my_plot.set_ylim([0,100])\n",
    "\n"
   ]
  },
  {
   "cell_type": "code",
   "execution_count": 35,
   "metadata": {},
   "outputs": [
    {
     "name": "stderr",
     "output_type": "stream",
     "text": [
      "/Users/Eimg/anaconda3/envs/comp47350/lib/python3.6/site-packages/ipykernel_launcher.py:7: RuntimeWarning: divide by zero encountered in long_scalars\n",
      "  import sys\n"
     ]
    },
    {
     "data": {
      "text/plain": [
       "(0, 100)"
      ]
     },
     "execution_count": 35,
     "metadata": {},
     "output_type": "execute_result"
    },
    {
     "data": {
      "image/png": "[encoded data removed]",
      "text/plain": [
       "<matplotlib.figure.Figure at 0x11b6f1390>"
      ]
     },
     "metadata": {},
     "output_type": "display_data"
    }
   ],
   "source": [
    "# pw_source_name_9089                                                 \n",
    "pw_source_name_9089 = pd.unique(new_df_clean.pw_source_name_9089.ravel())\n",
    "\n",
    "new_df_clean['percent'] = 0\n",
    "\n",
    "for i in pw_source_name_9089:\n",
    "    count = 1 / new_df_clean[new_df_clean.pw_source_name_9089== i].count()['case_status_code']\n",
    "    index_list = new_df_clean[new_df_clean['pw_source_name_9089'] == i].index.tolist()\n",
    "    for j in index_list:\n",
    "        new_df_clean.loc[j, 'percent'] = count * 100\n",
    "        \n",
    "group = new_df_clean[['percent','pw_source_name_9089','case_status_code']].groupby(['pw_source_name_9089','case_status_code']).sum()\n",
    "\n",
    "# Plot values of group in a stacked bar chart\n",
    "my_plot = group.unstack().plot(kind='bar', stacked=True, title=\"pw_source_name_9089 and case_status_code\", figsize=(15,7))\n",
    "\n",
    "# Define label colours and text and add to the plot\n",
    "red_patch = mpatches.Patch(color='orange', label='True')\n",
    "blue_patch = mpatches.Patch(color='blue', label='False')\n",
    "my_plot.legend(handles=[red_patch, blue_patch], frameon = True)\n",
    "\n",
    "# Define x and y labels and min and max values for the y axis\n",
    "my_plot.set_xlabel(\"pw_source_name_9089\")\n",
    "my_plot.set_ylabel(\"% case status_code\")\n",
    "my_plot.set_ylim([0,100])\n"
   ]
  },
  {
   "cell_type": "code",
   "execution_count": 36,
   "metadata": {},
   "outputs": [
    {
     "name": "stderr",
     "output_type": "stream",
     "text": [
      "/Users/Eimg/anaconda3/envs/comp47350/lib/python3.6/site-packages/ipykernel_launcher.py:7: RuntimeWarning: divide by zero encountered in long_scalars\n",
      "  import sys\n"
     ]
    },
    {
     "data": {
      "text/plain": [
       "(0, 100)"
      ]
     },
     "execution_count": 36,
     "metadata": {},
     "output_type": "execute_result"
    },
    {
     "data": {
      "image/png": "[encoded data removed]",
      "text/plain": [
       "<matplotlib.figure.Figure at 0x11b3e2908>"
      ]
     },
     "metadata": {},
     "output_type": "display_data"
    }
   ],
   "source": [
    "# pw_unit_of_pay_9089                                                 \n",
    "pw_unit_of_pay_9089 = pd.unique(new_df_clean.pw_unit_of_pay_9089.ravel())\n",
    "\n",
    "new_df_clean['percent'] = 0\n",
    "\n",
    "for i in pw_unit_of_pay_9089:\n",
    "    count = 1 / new_df_clean[new_df_clean.pw_unit_of_pay_9089== i].count()['case_status_code']\n",
    "    index_list = new_df_clean[new_df_clean['pw_unit_of_pay_9089'] == i].index.tolist()\n",
    "    for j in index_list:\n",
    "        new_df_clean.loc[j, 'percent'] = count * 100\n",
    "        \n",
    "group = new_df_clean[['percent','pw_unit_of_pay_9089','case_status_code']].groupby(['pw_unit_of_pay_9089','case_status_code']).sum()\n",
    " \n",
    "# Plot values of group in a stacked bar chart\n",
    "my_plot = group.unstack().plot(kind='bar', stacked=True, title=\"pw_unit_of_pay_9089 and case_status_code\", figsize=(15,7))\n",
    "\n",
    "# Define label colours and text and add to the plot\n",
    "red_patch = mpatches.Patch(color='orange', label='True')\n",
    "blue_patch = mpatches.Patch(color='blue', label='False')\n",
    "my_plot.legend(handles=[red_patch, blue_patch], frameon = True)\n",
    "\n",
    "# Define x and y labels and min and max values for the y axis\n",
    "my_plot.set_xlabel(\"pw_unit_of_pay_9089\")\n",
    "my_plot.set_ylabel(\"% case status_code\")\n",
    "my_plot.set_ylim([0,100])\n"
   ]
  },
  {
   "cell_type": "code",
   "execution_count": 37,
   "metadata": {},
   "outputs": [
    {
     "name": "stderr",
     "output_type": "stream",
     "text": [
      "/Users/Eimg/anaconda3/envs/comp47350/lib/python3.6/site-packages/ipykernel_launcher.py:7: RuntimeWarning: divide by zero encountered in long_scalars\n",
      "  import sys\n"
     ]
    },
    {
     "data": {
      "text/plain": [
       "(0, 100)"
      ]
     },
     "execution_count": 37,
     "metadata": {},
     "output_type": "execute_result"
    },
    {
     "data": {
      "image/png": "[encoded data removed]",
      "text/plain": [
       "<matplotlib.figure.Figure at 0x11b3d2588>"
      ]
     },
     "metadata": {},
     "output_type": "display_data"
    }
   ],
   "source": [
    "# wage_offer_unit_of_pay_9089                                                 \n",
    "wage_offer_unit_of_pay_9089 = pd.unique(new_df_clean.wage_offer_unit_of_pay_9089.ravel())\n",
    "\n",
    "new_df_clean['percent'] = 0\n",
    "\n",
    "for i in wage_offer_unit_of_pay_9089:\n",
    "    count = 1 / new_df_clean[new_df_clean.wage_offer_unit_of_pay_9089== i].count()['case_status_code']\n",
    "    index_list = new_df_clean[new_df_clean['wage_offer_unit_of_pay_9089'] == i].index.tolist()\n",
    "    for j in index_list:\n",
    "        new_df_clean.loc[j, 'percent'] = count * 100\n",
    "        \n",
    "group = new_df_clean[['percent','wage_offer_unit_of_pay_9089','case_status_code']].groupby(['wage_offer_unit_of_pay_9089','case_status_code']).sum()\n",
    "\n",
    "# Plot values of group in a stacked bar chart\n",
    "my_plot = group.unstack().plot(kind='bar', stacked=True, title=\"wage_offer_unit_of_pay_9089 and case_status_code\", figsize=(15,7))\n",
    "\n",
    "# Define label colours and text and add to the plot\n",
    "red_patch = mpatches.Patch(color='orange', label='True')\n",
    "blue_patch = mpatches.Patch(color='blue', label='False')\n",
    "my_plot.legend(handles=[red_patch, blue_patch], frameon = True)\n",
    "\n",
    "# Define x and y labels and min and max values for the y axis\n",
    "my_plot.set_xlabel(\"wage_offer_unit_of_pay_9089\")\n",
    "my_plot.set_ylabel(\"% case status_code\")\n",
    "my_plot.set_ylim([0,100])"
   ]
  },
  {
   "cell_type": "code",
   "execution_count": 38,
   "metadata": {},
   "outputs": [
    {
     "data": {
      "text/html": [
       "<div>\n",
       "<style scoped>\n",
       "    .dataframe tbody tr th:only-of-type {\n",
       "        vertical-align: middle;\n",
       "    }\n",
       "\n",
       "    .dataframe tbody tr th {\n",
       "        vertical-align: top;\n",
       "    }\n",
       "\n",
       "    .dataframe thead th {\n",
       "        text-align: right;\n",
       "    }\n",
       "</style>\n",
       "<table border=\"1\" class=\"dataframe\">\n",
       "  <thead>\n",
       "    <tr style=\"text-align: right;\">\n",
       "      <th></th>\n",
       "      <th>count</th>\n",
       "      <th>unique</th>\n",
       "      <th>top</th>\n",
       "      <th>freq</th>\n",
       "    </tr>\n",
       "  </thead>\n",
       "  <tbody>\n",
       "    <tr>\n",
       "      <th>case_status</th>\n",
       "      <td>28626</td>\n",
       "      <td>2</td>\n",
       "      <td>Denied</td>\n",
       "      <td>14313</td>\n",
       "    </tr>\n",
       "    <tr>\n",
       "      <th>country_of_citizenship</th>\n",
       "      <td>26113</td>\n",
       "      <td>154</td>\n",
       "      <td>INDIA</td>\n",
       "      <td>16208</td>\n",
       "    </tr>\n",
       "    <tr>\n",
       "      <th>decision_date</th>\n",
       "      <td>28626</td>\n",
       "      <td>1176</td>\n",
       "      <td>2016-06-20</td>\n",
       "      <td>119</td>\n",
       "    </tr>\n",
       "    <tr>\n",
       "      <th>employer_address_1</th>\n",
       "      <td>28626</td>\n",
       "      <td>11241</td>\n",
       "      <td>2200 MISSION COLLEGE BLVD.</td>\n",
       "      <td>699</td>\n",
       "    </tr>\n",
       "    <tr>\n",
       "      <th>employer_city</th>\n",
       "      <td>28626</td>\n",
       "      <td>2671</td>\n",
       "      <td>NEW YORK</td>\n",
       "      <td>1275</td>\n",
       "    </tr>\n",
       "    <tr>\n",
       "      <th>employer_name</th>\n",
       "      <td>28626</td>\n",
       "      <td>11324</td>\n",
       "      <td>COGNIZANT TECHNOLOGY SOLUTIONS US CORPORATION</td>\n",
       "      <td>698</td>\n",
       "    </tr>\n",
       "    <tr>\n",
       "      <th>employer_postal_code</th>\n",
       "      <td>28621</td>\n",
       "      <td>5509</td>\n",
       "      <td>95052</td>\n",
       "      <td>693</td>\n",
       "    </tr>\n",
       "    <tr>\n",
       "      <th>employer_state</th>\n",
       "      <td>28616</td>\n",
       "      <td>52</td>\n",
       "      <td>CALIFORNIA</td>\n",
       "      <td>6616</td>\n",
       "    </tr>\n",
       "    <tr>\n",
       "      <th>pw_job_title_9089</th>\n",
       "      <td>19403</td>\n",
       "      <td>1592</td>\n",
       "      <td>Software Developers, Applications</td>\n",
       "      <td>4725</td>\n",
       "    </tr>\n",
       "    <tr>\n",
       "      <th>pw_level_9089</th>\n",
       "      <td>25622</td>\n",
       "      <td>4</td>\n",
       "      <td>Level II</td>\n",
       "      <td>9816</td>\n",
       "    </tr>\n",
       "    <tr>\n",
       "      <th>pw_soc_code</th>\n",
       "      <td>28599</td>\n",
       "      <td>630</td>\n",
       "      <td>15-1132</td>\n",
       "      <td>8390</td>\n",
       "    </tr>\n",
       "    <tr>\n",
       "      <th>pw_soc_title</th>\n",
       "      <td>27491</td>\n",
       "      <td>420</td>\n",
       "      <td>Software Developers, Applications</td>\n",
       "      <td>8378</td>\n",
       "    </tr>\n",
       "    <tr>\n",
       "      <th>pw_source_name_9089</th>\n",
       "      <td>27510</td>\n",
       "      <td>6</td>\n",
       "      <td>OES</td>\n",
       "      <td>25127</td>\n",
       "    </tr>\n",
       "    <tr>\n",
       "      <th>pw_unit_of_pay_9089</th>\n",
       "      <td>28532</td>\n",
       "      <td>5</td>\n",
       "      <td>Year</td>\n",
       "      <td>28042</td>\n",
       "    </tr>\n",
       "    <tr>\n",
       "      <th>wage_offer_unit_of_pay_9089</th>\n",
       "      <td>17882</td>\n",
       "      <td>5</td>\n",
       "      <td>Year</td>\n",
       "      <td>17628</td>\n",
       "    </tr>\n",
       "  </tbody>\n",
       "</table>\n",
       "</div>"
      ],
      "text/plain": [
       "                             count unique  \\\n",
       "case_status                  28626      2   \n",
       "country_of_citizenship       26113    154   \n",
       "decision_date                28626   1176   \n",
       "employer_address_1           28626  11241   \n",
       "employer_city                28626   2671   \n",
       "employer_name                28626  11324   \n",
       "employer_postal_code         28621   5509   \n",
       "employer_state               28616     52   \n",
       "pw_job_title_9089            19403   1592   \n",
       "pw_level_9089                25622      4   \n",
       "pw_soc_code                  28599    630   \n",
       "pw_soc_title                 27491    420   \n",
       "pw_source_name_9089          27510      6   \n",
       "pw_unit_of_pay_9089          28532      5   \n",
       "wage_offer_unit_of_pay_9089  17882      5   \n",
       "\n",
       "                                                                       top  \\\n",
       "case_status                                                         Denied   \n",
       "country_of_citizenship                                               INDIA   \n",
       "decision_date                                                   2016-06-20   \n",
       "employer_address_1                              2200 MISSION COLLEGE BLVD.   \n",
       "employer_city                                                     NEW YORK   \n",
       "employer_name                COGNIZANT TECHNOLOGY SOLUTIONS US CORPORATION   \n",
       "employer_postal_code                                                 95052   \n",
       "employer_state                                                  CALIFORNIA   \n",
       "pw_job_title_9089                        Software Developers, Applications   \n",
       "pw_level_9089                                                     Level II   \n",
       "pw_soc_code                                                        15-1132   \n",
       "pw_soc_title                             Software Developers, Applications   \n",
       "pw_source_name_9089                                                    OES   \n",
       "pw_unit_of_pay_9089                                                   Year   \n",
       "wage_offer_unit_of_pay_9089                                           Year   \n",
       "\n",
       "                              freq  \n",
       "case_status                  14313  \n",
       "country_of_citizenship       16208  \n",
       "decision_date                  119  \n",
       "employer_address_1             699  \n",
       "employer_city                 1275  \n",
       "employer_name                  698  \n",
       "employer_postal_code           693  \n",
       "employer_state                6616  \n",
       "pw_job_title_9089             4725  \n",
       "pw_level_9089                 9816  \n",
       "pw_soc_code                   8390  \n",
       "pw_soc_title                  8378  \n",
       "pw_source_name_9089          25127  \n",
       "pw_unit_of_pay_9089          28042  \n",
       "wage_offer_unit_of_pay_9089  17628  "
      ]
     },
     "execution_count": 38,
     "metadata": {},
     "output_type": "execute_result"
    }
   ],
   "source": [
    "new_df_clean.select_dtypes(['object']).describe().T"
   ]
  },
  {
   "cell_type": "markdown",
   "metadata": {},
   "source": [
    "## Discussion on plots shown above\n",
    "As some of the variables have a very high cardinality, e.g. employer_address_1, employer_name, employer_postal_code, employer_city, decision_date and pw_job_title_9089. Plotting these features as stacked bar charts has no value as it becomes impossible to see which, of which there may be many, categories are more likely to be in the certified versus denied group. \n",
    "\n",
    "Of the other variables of interest which we plotted, the employer state chart shows that some states like New Hampshire, Washington, North Dakota and South Dakota are are associated with more certified statuses than denied. Whereas Montana, Alaska, Maryland and the territories are associated with more denied status codes. \n",
    "\n",
    "Pw_level_9089 (level of the prevailing wage determination) does not tell us much but that Level IV is slightly more associated with certified than denied cases. Equally, of the pw_source_name_9089 (name of the entity providing prevailing wage information for the job) categories only OES and Other are associated with more certified cases, and DBA and SCA are only associated with denied cases. Of the wage_offer_unit_of_pay_9089, year is the only category associated more so with certified cases, whereas bi-weekly is associated with no certified cases. The same is true for pw_unit_of_pay_9089.\n",
    "\n",
    "We picked out a number of variables of interest that we would investigate, and potentially manipulate, further, namely: country_of_citizenship, decision date, employer_name, employer_state, pw_job_title_9089, and pw_soc_title. We chose to investigate the country of citizenship as we were interested to see whether cases were more likely to be certified based on the worker coming from a certain country or region. However, as the cardinality is very high we need to investigate how we can prepare this in a more appropriate fashion for modelling. We choose also to explore the employer state as we were interested to know whether some states are associated with a higher number of certified cases, and for what reason that might be. We are interested in the decision date, as we hypothesize that the outcomes of visa applications may be affected by the political climate, so we may see changes as the US changed presidents in 2016. We chose to investigate employer name as we considered this a feature that would indicate that industries and company sizes were associated with more certified cases. We were also interested in job titles as we hypothesize that certain job titles will more likely to be granted certified. We think that visas for jobs associated with the tech industry and based in hubs like California may be more likely to be certified. "
   ]
  },
  {
   "cell_type": "code",
   "execution_count": null,
   "metadata": {},
   "outputs": [],
   "source": []
  }
 ],
 "metadata": {
  "kernelspec": {
   "display_name": "Python 3",
   "language": "python",
   "name": "python3"
  },
  "language_info": {
   "codemirror_mode": {
    "name": "ipython",
    "version": 3
   },
   "file_extension": ".py",
   "mimetype": "text/x-python",
   "name": "python",
   "nbconvert_exporter": "python",
   "pygments_lexer": "ipython3",
   "version": "3.6.4"
  }
 },
 "nbformat": 4,
 "nbformat_minor": 2
}
